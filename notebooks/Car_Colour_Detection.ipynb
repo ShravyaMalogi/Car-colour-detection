{
  "nbformat": 4,
  "nbformat_minor": 0,
  "metadata": {
    "colab": {
      "provenance": [],
      "gpuType": "T4"
    },
    "kernelspec": {
      "name": "python3",
      "display_name": "Python 3"
    },
    "language_info": {
      "name": "python"
    },
    "accelerator": "GPU"
  },
  "cells": [
    {
      "cell_type": "code",
      "execution_count": 1,
      "metadata": {
        "colab": {
          "base_uri": "https://localhost:8080/"
        },
        "id": "XrQG5CV8BNv-",
        "outputId": "74b8df62-a1ca-422b-9391-b874d482b7a9"
      },
      "outputs": [
        {
          "output_type": "stream",
          "name": "stdout",
          "text": [
            "Downloading from https://www.kaggle.com/api/v1/datasets/download/landrykezebou/vcor-vehicle-color-recognition-dataset?dataset_version_number=1...\n"
          ]
        },
        {
          "output_type": "stream",
          "name": "stderr",
          "text": [
            "100%|██████████| 574M/574M [00:04<00:00, 148MB/s]"
          ]
        },
        {
          "output_type": "stream",
          "name": "stdout",
          "text": [
            "Extracting files...\n"
          ]
        },
        {
          "output_type": "stream",
          "name": "stderr",
          "text": [
            "\n"
          ]
        },
        {
          "output_type": "stream",
          "name": "stdout",
          "text": [
            "/root/.cache/kagglehub/datasets/landrykezebou/vcor-vehicle-color-recognition-dataset/versions/1\n"
          ]
        }
      ],
      "source": [
        "import kagglehub\n",
        "landrykezebou_vcor_vehicle_color_recognition_dataset_path = kagglehub.dataset_download('landrykezebou/vcor-vehicle-color-recognition-dataset')\n",
        "\n",
        "print(landrykezebou_vcor_vehicle_color_recognition_dataset_path)"
      ]
    },
    {
      "cell_type": "markdown",
      "source": [
        "# Dataset Reorganization"
      ],
      "metadata": {
        "id": "z_oj8T9WBl7s"
      }
    },
    {
      "cell_type": "code",
      "source": [
        "import os\n",
        "import shutil"
      ],
      "metadata": {
        "id": "b72nO4pWBrNv"
      },
      "execution_count": 8,
      "outputs": []
    },
    {
      "cell_type": "code",
      "source": [
        "original_dataset_path = \"/root/.cache/kagglehub/datasets/landrykezebou/vcor-vehicle-color-recognition-dataset/versions/1/\"\n",
        "original_train = os.path.join(original_dataset_path, \"train\")\n",
        "original_val = os.path.join(original_dataset_path, \"val\")\n",
        "original_test = os.path.join(original_dataset_path, \"test\")"
      ],
      "metadata": {
        "id": "S5r97fLvBw-x"
      },
      "execution_count": 14,
      "outputs": []
    },
    {
      "cell_type": "code",
      "source": [
        "binary_train = \"/content/binary_dataset/train\"\n",
        "binary_val = \"/content/binary_dataset/val\"\n",
        "binary_test = \"/content/binary_dataset/test\""
      ],
      "metadata": {
        "id": "Ma_hCz1uBz5f"
      },
      "execution_count": 10,
      "outputs": []
    },
    {
      "cell_type": "code",
      "source": [
        "for split in [binary_train, binary_val, binary_test]:\n",
        "    os.makedirs(os.path.join(split, \"blue\"), exist_ok=True)\n",
        "    os.makedirs(os.path.join(split, \"not_blue\"), exist_ok=True)"
      ],
      "metadata": {
        "id": "5piurFcnDYxu"
      },
      "execution_count": 11,
      "outputs": []
    },
    {
      "cell_type": "code",
      "source": [
        "def reorganize(original_path, new_path):\n",
        "    for class_name in os.listdir(original_path):\n",
        "        class_folder = os.path.join(original_path, class_name)\n",
        "        if not os.path.isdir(class_folder):\n",
        "            continue\n",
        "        target_class = \"blue\" if class_name.lower() == \"blue\" else \"not_blue\"\n",
        "        for img_file in os.listdir(class_folder):\n",
        "            src = os.path.join(class_folder, img_file)\n",
        "            dst = os.path.join(new_path, target_class, img_file)\n",
        "            shutil.copy(src, dst)"
      ],
      "metadata": {
        "id": "ZSuvrYWgDmOn"
      },
      "execution_count": 12,
      "outputs": []
    },
    {
      "cell_type": "code",
      "source": [
        "reorganize(original_train, binary_train)\n",
        "reorganize(original_val, binary_val)\n",
        "reorganize(original_test, binary_test)"
      ],
      "metadata": {
        "id": "MQ-34zj4DppX"
      },
      "execution_count": 15,
      "outputs": []
    },
    {
      "cell_type": "code",
      "source": [
        "print(\"✅ Dataset reorganized into 'blue' and 'not_blue'\")"
      ],
      "metadata": {
        "colab": {
          "base_uri": "https://localhost:8080/"
        },
        "id": "xTUOA7fhDrwa",
        "outputId": "129e4b03-d24f-467f-e0a8-a701cb38ded4"
      },
      "execution_count": 16,
      "outputs": [
        {
          "output_type": "stream",
          "name": "stdout",
          "text": [
            "✅ Dataset reorganized into 'blue' and 'not_blue'\n"
          ]
        }
      ]
    },
    {
      "cell_type": "markdown",
      "source": [
        "# Train Binary Classifier"
      ],
      "metadata": {
        "id": "_eVDIjaaDs1p"
      }
    },
    {
      "cell_type": "code",
      "source": [
        "import tensorflow as tf\n",
        "from tensorflow.keras.preprocessing.image import ImageDataGenerator\n",
        "from tensorflow.keras import layers, models"
      ],
      "metadata": {
        "id": "mQ7arOOuDwRO"
      },
      "execution_count": null,
      "outputs": []
    },
    {
      "cell_type": "code",
      "source": [
        "train_dir = binary_train\n",
        "val_dir = binary_val"
      ],
      "metadata": {
        "id": "KnCHHMmtD2SI"
      },
      "execution_count": null,
      "outputs": []
    },
    {
      "cell_type": "code",
      "source": [
        "train_datagen = ImageDataGenerator(rescale=1./255)\n",
        "val_datagen = ImageDataGenerator(rescale=1./255)"
      ],
      "metadata": {
        "id": "k6Gnqro4D4-y"
      },
      "execution_count": null,
      "outputs": []
    },
    {
      "cell_type": "code",
      "source": [
        "train_gen = train_datagen.flow_from_directory(\n",
        "    train_dir, target_size=(128, 128), batch_size=32, class_mode='binary'\n",
        ")\n",
        "\n",
        "val_gen = val_datagen.flow_from_directory(\n",
        "    val_dir, target_size=(128, 128), batch_size=32, class_mode='binary'\n",
        ")"
      ],
      "metadata": {
        "colab": {
          "base_uri": "https://localhost:8080/"
        },
        "id": "-MMja0qeD8Vo",
        "outputId": "e51ddb4f-2423-4bd7-8ef6-4ef523e4db52"
      },
      "execution_count": null,
      "outputs": [
        {
          "output_type": "stream",
          "name": "stdout",
          "text": [
            "Found 7262 images belonging to 2 classes.\n",
            "Found 1549 images belonging to 2 classes.\n"
          ]
        }
      ]
    },
    {
      "cell_type": "code",
      "source": [
        "model = models.Sequential([\n",
        "    layers.Conv2D(32, (3,3), activation='relu', input_shape=(128,128,3)),\n",
        "    layers.MaxPooling2D(2,2),\n",
        "    layers.Conv2D(64, (3,3), activation='relu'),\n",
        "    layers.MaxPooling2D(2,2),\n",
        "    layers.Conv2D(128, (3,3), activation='relu'),\n",
        "    layers.MaxPooling2D(2,2),\n",
        "    layers.Flatten(),\n",
        "    layers.Dense(128, activation='relu'),\n",
        "    layers.Dense(1, activation='sigmoid')\n",
        "])"
      ],
      "metadata": {
        "colab": {
          "base_uri": "https://localhost:8080/"
        },
        "id": "xeC5XMaNEAEZ",
        "outputId": "5be51632-3182-4b15-dc7f-9ae3e371c762"
      },
      "execution_count": null,
      "outputs": [
        {
          "output_type": "stream",
          "name": "stderr",
          "text": [
            "/usr/local/lib/python3.11/dist-packages/keras/src/layers/convolutional/base_conv.py:113: UserWarning: Do not pass an `input_shape`/`input_dim` argument to a layer. When using Sequential models, prefer using an `Input(shape)` object as the first layer in the model instead.\n",
            "  super().__init__(activity_regularizer=activity_regularizer, **kwargs)\n"
          ]
        }
      ]
    },
    {
      "cell_type": "code",
      "source": [
        "model.compile(optimizer='adam', loss='binary_crossentropy', metrics=['accuracy'])"
      ],
      "metadata": {
        "id": "xz7UID9UEBP7"
      },
      "execution_count": null,
      "outputs": []
    },
    {
      "cell_type": "code",
      "source": [
        "history = model.fit(\n",
        "    train_gen,\n",
        "    validation_data=val_gen,\n",
        "    epochs=5\n",
        ")"
      ],
      "metadata": {
        "colab": {
          "base_uri": "https://localhost:8080/"
        },
        "id": "VKeF6LnAEGP5",
        "outputId": "09ef7588-e14a-40e0-b385-79ec5809cb00"
      },
      "execution_count": null,
      "outputs": [
        {
          "output_type": "stream",
          "name": "stderr",
          "text": [
            "/usr/local/lib/python3.11/dist-packages/keras/src/trainers/data_adapters/py_dataset_adapter.py:121: UserWarning: Your `PyDataset` class should call `super().__init__(**kwargs)` in its constructor. `**kwargs` can include `workers`, `use_multiprocessing`, `max_queue_size`. Do not pass these arguments to `fit()`, as they will be ignored.\n",
            "  self._warn_if_super_not_called()\n"
          ]
        },
        {
          "output_type": "stream",
          "name": "stdout",
          "text": [
            "Epoch 1/5\n",
            "\u001b[1m227/227\u001b[0m \u001b[32m━━━━━━━━━━━━━━━━━━━━\u001b[0m\u001b[37m\u001b[0m \u001b[1m255s\u001b[0m 1s/step - accuracy: 0.9221 - loss: 0.1698 - val_accuracy: 0.9845 - val_loss: 0.0519\n",
            "Epoch 2/5\n",
            "\u001b[1m227/227\u001b[0m \u001b[32m━━━━━━━━━━━━━━━━━━━━\u001b[0m\u001b[37m\u001b[0m \u001b[1m249s\u001b[0m 1s/step - accuracy: 0.9802 - loss: 0.0610 - val_accuracy: 0.9671 - val_loss: 0.0817\n",
            "Epoch 3/5\n",
            "\u001b[1m227/227\u001b[0m \u001b[32m━━━━━━━━━━━━━━━━━━━━\u001b[0m\u001b[37m\u001b[0m \u001b[1m251s\u001b[0m 1s/step - accuracy: 0.9832 - loss: 0.0502 - val_accuracy: 0.9852 - val_loss: 0.0506\n",
            "Epoch 4/5\n",
            "\u001b[1m227/227\u001b[0m \u001b[32m━━━━━━━━━━━━━━━━━━━━\u001b[0m\u001b[37m\u001b[0m \u001b[1m245s\u001b[0m 1s/step - accuracy: 0.9860 - loss: 0.0410 - val_accuracy: 0.9897 - val_loss: 0.0385\n",
            "Epoch 5/5\n",
            "\u001b[1m227/227\u001b[0m \u001b[32m━━━━━━━━━━━━━━━━━━━━\u001b[0m\u001b[37m\u001b[0m \u001b[1m251s\u001b[0m 1s/step - accuracy: 0.9920 - loss: 0.0277 - val_accuracy: 0.9877 - val_loss: 0.0379\n"
          ]
        }
      ]
    },
    {
      "cell_type": "code",
      "source": [
        "model.save(\"blue_car_classifier.keras\")\n",
        "\n",
        "from google.colab import files\n",
        "\n",
        "files.download(\"blue_car_classifier.keras\")"
      ],
      "metadata": {
        "colab": {
          "base_uri": "https://localhost:8080/",
          "height": 17
        },
        "id": "j5tbMOOMK4gM",
        "outputId": "4e93ea38-c13f-4318-d2b3-6f0b0b274948"
      },
      "execution_count": null,
      "outputs": [
        {
          "output_type": "display_data",
          "data": {
            "text/plain": [
              "<IPython.core.display.Javascript object>"
            ],
            "application/javascript": [
              "\n",
              "    async function download(id, filename, size) {\n",
              "      if (!google.colab.kernel.accessAllowed) {\n",
              "        return;\n",
              "      }\n",
              "      const div = document.createElement('div');\n",
              "      const label = document.createElement('label');\n",
              "      label.textContent = `Downloading \"${filename}\": `;\n",
              "      div.appendChild(label);\n",
              "      const progress = document.createElement('progress');\n",
              "      progress.max = size;\n",
              "      div.appendChild(progress);\n",
              "      document.body.appendChild(div);\n",
              "\n",
              "      const buffers = [];\n",
              "      let downloaded = 0;\n",
              "\n",
              "      const channel = await google.colab.kernel.comms.open(id);\n",
              "      // Send a message to notify the kernel that we're ready.\n",
              "      channel.send({})\n",
              "\n",
              "      for await (const message of channel.messages) {\n",
              "        // Send a message to notify the kernel that we're ready.\n",
              "        channel.send({})\n",
              "        if (message.buffers) {\n",
              "          for (const buffer of message.buffers) {\n",
              "            buffers.push(buffer);\n",
              "            downloaded += buffer.byteLength;\n",
              "            progress.value = downloaded;\n",
              "          }\n",
              "        }\n",
              "      }\n",
              "      const blob = new Blob(buffers, {type: 'application/binary'});\n",
              "      const a = document.createElement('a');\n",
              "      a.href = window.URL.createObjectURL(blob);\n",
              "      a.download = filename;\n",
              "      div.appendChild(a);\n",
              "      a.click();\n",
              "      div.remove();\n",
              "    }\n",
              "  "
            ]
          },
          "metadata": {}
        },
        {
          "output_type": "display_data",
          "data": {
            "text/plain": [
              "<IPython.core.display.Javascript object>"
            ],
            "application/javascript": [
              "download(\"download_e8687334-66de-4907-9232-1b087839d6f6\", \"blue_car_classifier.keras\", 39702541)"
            ]
          },
          "metadata": {}
        }
      ]
    },
    {
      "cell_type": "markdown",
      "source": [
        "# Evaluation"
      ],
      "metadata": {
        "id": "QDdR_XvjLsPd"
      }
    },
    {
      "cell_type": "code",
      "source": [
        "import numpy as np\n",
        "import os\n",
        "from tensorflow.keras.models import load_model\n",
        "from tensorflow.keras.preprocessing.image import load_img, img_to_array\n",
        "\n",
        "COLOR_MODEL_PATH = \"/content/blue_car_classifier.keras\"\n",
        "DATASET_DIR = \"/content/binary_dataset/test/\"\n",
        "COLOR_CLASSES = [\"blue\", \"not_blue\"]\n",
        "THRESHOLD = 0.5\n",
        "IMG_SIZE = (128, 128)\n",
        "\n",
        "model = load_model(COLOR_MODEL_PATH)"
      ],
      "metadata": {
        "id": "y4WAW_4pLvyS"
      },
      "execution_count": 17,
      "outputs": []
    },
    {
      "cell_type": "code",
      "source": [
        "y_true = []\n",
        "y_pred = []\n",
        "y_prob = []\n",
        "\n",
        "for label_idx, label_name in enumerate(COLOR_CLASSES):\n",
        "    folder = os.path.join(DATASET_DIR, label_name)\n",
        "    for file in os.listdir(folder):\n",
        "        img_path = os.path.join(folder, file)\n",
        "        img = load_img(img_path, target_size=IMG_SIZE)\n",
        "        img_array = img_to_array(img) / 255.0\n",
        "        img_array = np.expand_dims(img_array, axis=0)\n",
        "\n",
        "        pred = model.predict(img_array, verbose=0)\n",
        "        y_prob.append(pred[0][0])\n",
        "\n",
        "        if pred.shape[-1] == 1:\n",
        "            pred_label = 1 if pred[0][0] > THRESHOLD else 0\n",
        "        else:\n",
        "            pred_label = np.argmax(pred)\n",
        "\n",
        "        y_true.append(label_idx)\n",
        "        y_pred.append(pred_label)\n",
        "\n",
        "y_true = np.array(y_true)\n",
        "y_pred = np.array(y_pred)\n",
        "y_prob = np.array(y_prob)"
      ],
      "metadata": {
        "id": "TLbQPlWJMLSy"
      },
      "execution_count": 24,
      "outputs": []
    },
    {
      "cell_type": "code",
      "source": [
        "from sklearn.metrics import confusion_matrix, classification_report, roc_auc_score, roc_curve, precision_score, recall_score, f1_score, accuracy_score\n",
        "import matplotlib.pyplot as plt\n",
        "import seaborn as sns\n",
        "import numpy as np"
      ],
      "metadata": {
        "id": "GVBoxfWgOip2"
      },
      "execution_count": 22,
      "outputs": []
    },
    {
      "cell_type": "code",
      "source": [
        "accuracy = accuracy_score(y_true, y_pred) * 100\n",
        "precision = precision_score(y_true, y_pred, pos_label=0) * 100\n",
        "recall = recall_score(y_true, y_pred, pos_label=0) * 100\n",
        "f1 = f1_score(y_true, y_pred, pos_label=0) * 100\n",
        "roc_auc = roc_auc_score(y_true, y_prob) * 100\n",
        "\n",
        "print(f\"Accuracy: {accuracy:.2f}%\")\n",
        "print(f\"Precision (blue): {precision:.2f}%\")\n",
        "print(f\"Recall (blue): {recall:.2f}%\")\n",
        "print(f\"F1 Score (blue): {f1:.2f}%\")\n",
        "print(f\"ROC-AUC: {roc_auc:.2f}%\\n\")"
      ],
      "metadata": {
        "colab": {
          "base_uri": "https://localhost:8080/"
        },
        "id": "jJ8Uzp_9Omy_",
        "outputId": "f9e39978-4cb6-4c44-fc3e-d5f1aff414dc"
      },
      "execution_count": 26,
      "outputs": [
        {
          "output_type": "stream",
          "name": "stdout",
          "text": [
            "Accuracy: 98.33%\n",
            "Precision (blue): 90.30%\n",
            "Recall (blue): 93.71%\n",
            "F1 Score (blue): 91.98%\n",
            "ROC-AUC: 99.75%\n",
            "\n"
          ]
        }
      ]
    },
    {
      "cell_type": "code",
      "source": [
        "report = classification_report(y_true, y_pred, target_names=['blue', 'not_blue'])\n",
        "print(\"Classification Report:\\n\", report)"
      ],
      "metadata": {
        "colab": {
          "base_uri": "https://localhost:8080/"
        },
        "id": "BeUjtXv_Pdds",
        "outputId": "31c639e5-6791-47c1-82e2-7d47f7573494"
      },
      "execution_count": 27,
      "outputs": [
        {
          "output_type": "stream",
          "name": "stdout",
          "text": [
            "Classification Report:\n",
            "               precision    recall  f1-score   support\n",
            "\n",
            "        blue       0.90      0.94      0.92       159\n",
            "    not_blue       0.99      0.99      0.99      1396\n",
            "\n",
            "    accuracy                           0.98      1555\n",
            "   macro avg       0.95      0.96      0.96      1555\n",
            "weighted avg       0.98      0.98      0.98      1555\n",
            "\n"
          ]
        }
      ]
    },
    {
      "cell_type": "code",
      "source": [
        "cm = confusion_matrix(y_true, y_pred)\n",
        "plt.figure(figsize=(6,4))\n",
        "sns.heatmap(cm, annot=True, fmt='d', cmap='Blues', xticklabels=['blue','not_blue'], yticklabels=['blue','not_blue'])\n",
        "plt.xlabel('Predicted')\n",
        "plt.ylabel('Actual')\n",
        "plt.title('Confusion Matrix')\n",
        "plt.show()"
      ],
      "metadata": {
        "colab": {
          "base_uri": "https://localhost:8080/",
          "height": 410
        },
        "id": "4xDhZHTGPiPR",
        "outputId": "6efb82e5-3d04-4f85-b402-4d08086baca2"
      },
      "execution_count": 28,
      "outputs": [
        {
          "output_type": "display_data",
          "data": {
            "text/plain": [
              "<Figure size 600x400 with 2 Axes>"
            ],
            "image/png": "[encoded data removed]"
          },
          "metadata": {}
        }
      ]
    },
    {
      "cell_type": "code",
      "source": [
        "fpr, tpr, thresholds = roc_curve(y_true, y_prob)\n",
        "plt.figure(figsize=(6,4))\n",
        "plt.plot(fpr, tpr, label=f'ROC curve (AUC = {roc_auc:.2f}%)')\n",
        "plt.plot([0,1],[0,1],'k--')\n",
        "plt.xlabel('False Positive Rate')\n",
        "plt.ylabel('True Positive Rate')\n",
        "plt.title('ROC Curve')\n",
        "plt.legend()\n",
        "plt.show()"
      ],
      "metadata": {
        "colab": {
          "base_uri": "https://localhost:8080/",
          "height": 410
        },
        "id": "RhmkWK3WPmiD",
        "outputId": "ff8de587-05a8-48fc-df34-07766fec2917"
      },
      "execution_count": 29,
      "outputs": [
        {
          "output_type": "display_data",
          "data": {
            "text/plain": [
              "<Figure size 600x400 with 1 Axes>"
            ],
            "image/png": "[encoded data removed]"
          },
          "metadata": {}
        }
      ]
    }
  ]
}
